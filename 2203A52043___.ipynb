{
  "nbformat": 4,
  "nbformat_minor": 0,
  "metadata": {
    "colab": {
      "provenance": []
    },
    "kernelspec": {
      "name": "python3",
      "display_name": "Python 3"
    },
    "language_info": {
      "name": "python"
    }
  },
  "cells": [
    {
      "cell_type": "code",
      "execution_count": 4,
      "metadata": {
        "colab": {
          "base_uri": "https://localhost:8080/"
        },
        "id": "os0qjC6afOIa",
        "outputId": "a29618ff-b519-440d-fa34-de7ab7d3f616"
      },
      "outputs": [
        {
          "output_type": "stream",
          "name": "stdout",
          "text": [
            "      battery_power  blue  clock_speed  dual_sim  fc  four_g  int_memory  \\\n",
            "0               842     0          2.2         0   1       0           7   \n",
            "1              1021     1          0.5         1   0       1          53   \n",
            "2               563     1          0.5         1   2       1          41   \n",
            "3               615     1          2.5         0   0       0          10   \n",
            "4              1821     1          1.2         0  13       1          44   \n",
            "...             ...   ...          ...       ...  ..     ...         ...   \n",
            "1995            794     1          0.5         1   0       1           2   \n",
            "1996           1965     1          2.6         1   0       0          39   \n",
            "1997           1911     0          0.9         1   1       1          36   \n",
            "1998           1512     0          0.9         0   4       1          46   \n",
            "1999            510     1          2.0         1   5       1          45   \n",
            "\n",
            "      m_dep  mobile_wt  n_cores  ...  px_height  px_width   ram  sc_h  sc_w  \\\n",
            "0       0.6        188        2  ...         20       756  2549     9     7   \n",
            "1       0.7        136        3  ...        905      1988  2631    17     3   \n",
            "2       0.9        145        5  ...       1263      1716  2603    11     2   \n",
            "3       0.8        131        6  ...       1216      1786  2769    16     8   \n",
            "4       0.6        141        2  ...       1208      1212  1411     8     2   \n",
            "...     ...        ...      ...  ...        ...       ...   ...   ...   ...   \n",
            "1995    0.8        106        6  ...       1222      1890   668    13     4   \n",
            "1996    0.2        187        4  ...        915      1965  2032    11    10   \n",
            "1997    0.7        108        8  ...        868      1632  3057     9     1   \n",
            "1998    0.1        145        5  ...        336       670   869    18    10   \n",
            "1999    0.9        168        6  ...        483       754  3919    19     4   \n",
            "\n",
            "      talk_time  three_g  touch_screen  wifi  price_range  \n",
            "0            19        0             0     1            1  \n",
            "1             7        1             1     0            2  \n",
            "2             9        1             1     0            2  \n",
            "3            11        1             0     0            2  \n",
            "4            15        1             1     0            1  \n",
            "...         ...      ...           ...   ...          ...  \n",
            "1995         19        1             1     0            0  \n",
            "1996         16        1             1     1            2  \n",
            "1997          5        1             1     0            3  \n",
            "1998         19        1             1     1            0  \n",
            "1999          2        1             1     1            3  \n",
            "\n",
            "[2000 rows x 21 columns]\n"
          ]
        }
      ],
      "source": [
        "import pandas as pd\n",
        "q1= pd.read_csv(\"/content/train.csv\")\n",
        "print(q1)"
      ]
    },
    {
      "cell_type": "code",
      "source": [
        "X = q1.drop(\"price_range\", axis=1)\n",
        "print(X)"
      ],
      "metadata": {
        "colab": {
          "base_uri": "https://localhost:8080/"
        },
        "id": "EVvlZETLfxZm",
        "outputId": "dcf5e65b-4a8d-4d42-f639-793603edab10"
      },
      "execution_count": 5,
      "outputs": [
        {
          "output_type": "stream",
          "name": "stdout",
          "text": [
            "      battery_power  blue  clock_speed  dual_sim  fc  four_g  int_memory  \\\n",
            "0               842     0          2.2         0   1       0           7   \n",
            "1              1021     1          0.5         1   0       1          53   \n",
            "2               563     1          0.5         1   2       1          41   \n",
            "3               615     1          2.5         0   0       0          10   \n",
            "4              1821     1          1.2         0  13       1          44   \n",
            "...             ...   ...          ...       ...  ..     ...         ...   \n",
            "1995            794     1          0.5         1   0       1           2   \n",
            "1996           1965     1          2.6         1   0       0          39   \n",
            "1997           1911     0          0.9         1   1       1          36   \n",
            "1998           1512     0          0.9         0   4       1          46   \n",
            "1999            510     1          2.0         1   5       1          45   \n",
            "\n",
            "      m_dep  mobile_wt  n_cores  pc  px_height  px_width   ram  sc_h  sc_w  \\\n",
            "0       0.6        188        2   2         20       756  2549     9     7   \n",
            "1       0.7        136        3   6        905      1988  2631    17     3   \n",
            "2       0.9        145        5   6       1263      1716  2603    11     2   \n",
            "3       0.8        131        6   9       1216      1786  2769    16     8   \n",
            "4       0.6        141        2  14       1208      1212  1411     8     2   \n",
            "...     ...        ...      ...  ..        ...       ...   ...   ...   ...   \n",
            "1995    0.8        106        6  14       1222      1890   668    13     4   \n",
            "1996    0.2        187        4   3        915      1965  2032    11    10   \n",
            "1997    0.7        108        8   3        868      1632  3057     9     1   \n",
            "1998    0.1        145        5   5        336       670   869    18    10   \n",
            "1999    0.9        168        6  16        483       754  3919    19     4   \n",
            "\n",
            "      talk_time  three_g  touch_screen  wifi  \n",
            "0            19        0             0     1  \n",
            "1             7        1             1     0  \n",
            "2             9        1             1     0  \n",
            "3            11        1             0     0  \n",
            "4            15        1             1     0  \n",
            "...         ...      ...           ...   ...  \n",
            "1995         19        1             1     0  \n",
            "1996         16        1             1     1  \n",
            "1997          5        1             1     0  \n",
            "1998         19        1             1     1  \n",
            "1999          2        1             1     1  \n",
            "\n",
            "[2000 rows x 20 columns]\n"
          ]
        }
      ]
    },
    {
      "cell_type": "code",
      "source": [
        "y = q1[\"price_range\"]\n",
        "print(y)"
      ],
      "metadata": {
        "colab": {
          "base_uri": "https://localhost:8080/"
        },
        "id": "_mnaLa2JfmKv",
        "outputId": "a711ac92-84c6-45a7-8cd9-6c2d00878979"
      },
      "execution_count": 6,
      "outputs": [
        {
          "output_type": "stream",
          "name": "stdout",
          "text": [
            "0       1\n",
            "1       2\n",
            "2       2\n",
            "3       2\n",
            "4       1\n",
            "       ..\n",
            "1995    0\n",
            "1996    2\n",
            "1997    3\n",
            "1998    0\n",
            "1999    3\n",
            "Name: price_range, Length: 2000, dtype: int64\n"
          ]
        }
      ]
    },
    {
      "cell_type": "code",
      "source": [
        "from sklearn.preprocessing import MinMaxScaler\n",
        "scaler = MinMaxScaler(feature_range=(0,1))\n",
        "xtrain_norm=scaler.fit_transform(X)\n",
        "print(xtrain_norm)\n"
      ],
      "metadata": {
        "colab": {
          "base_uri": "https://localhost:8080/"
        },
        "id": "8Iz28d_dghhR",
        "outputId": "030c5f17-8cc8-4587-a07e-d2f7df37537b"
      },
      "execution_count": 7,
      "outputs": [
        {
          "output_type": "stream",
          "name": "stdout",
          "text": [
            "[[0.22778891 0.         0.68       ... 0.         0.         1.        ]\n",
            " [0.34736139 1.         0.         ... 1.         1.         0.        ]\n",
            " [0.04141617 1.         0.         ... 1.         1.         0.        ]\n",
            " ...\n",
            " [0.94188377 0.         0.16       ... 1.         1.         0.        ]\n",
            " [0.6753507  0.         0.16       ... 1.         1.         1.        ]\n",
            " [0.00601202 1.         0.6        ... 1.         1.         1.        ]]\n"
          ]
        }
      ]
    },
    {
      "cell_type": "code",
      "source": [
        "from sklearn.model_selection import train_test_split\n",
        "X_train, X_test, y_train, y_test = train_test_split(xtrain_norm, y, test_size=0.2, random_state=42)\n",
        "print(\"X_train shape:\", X_train.shape)\n",
        "print(\"X_test shape:\", X_test.shape)\n",
        "print(\"y_train shape:\", y_train.shape)\n",
        "print(\"y_test shape:\", y_test.shape)"
      ],
      "metadata": {
        "colab": {
          "base_uri": "https://localhost:8080/"
        },
        "id": "HteNUQbJisXD",
        "outputId": "546d68dc-a967-41ba-9e14-cbe6098e186e"
      },
      "execution_count": 8,
      "outputs": [
        {
          "output_type": "stream",
          "name": "stdout",
          "text": [
            "X_train shape: (1600, 20)\n",
            "X_test shape: (400, 20)\n",
            "y_train shape: (1600,)\n",
            "y_test shape: (400,)\n"
          ]
        }
      ]
    },
    {
      "cell_type": "code",
      "source": [
        "import pandas as pd\n",
        "q2= pd.read_csv(\"/content/heart.csv\")\n",
        "print(q2)"
      ],
      "metadata": {
        "colab": {
          "base_uri": "https://localhost:8080/"
        },
        "id": "pgsp1EFXmo76",
        "outputId": "a337c647-3534-4e2c-aa99-8b44f4cd18c7"
      },
      "execution_count": 10,
      "outputs": [
        {
          "output_type": "stream",
          "name": "stdout",
          "text": [
            "     age  sex  cp  trestbps  chol  fbs  restecg  thalach  exang  oldpeak  \\\n",
            "0     63    1   3       145   233    1        0      150      0      2.3   \n",
            "1     37    1   2       130   250    0        1      187      0      3.5   \n",
            "2     41    0   1       130   204    0        0      172      0      1.4   \n",
            "3     56    1   1       120   236    0        1      178      0      0.8   \n",
            "4     57    0   0       120   354    0        1      163      1      0.6   \n",
            "..   ...  ...  ..       ...   ...  ...      ...      ...    ...      ...   \n",
            "298   57    0   0       140   241    0        1      123      1      0.2   \n",
            "299   45    1   3       110   264    0        1      132      0      1.2   \n",
            "300   68    1   0       144   193    1        1      141      0      3.4   \n",
            "301   57    1   0       130   131    0        1      115      1      1.2   \n",
            "302   57    0   1       130   236    0        0      174      0      0.0   \n",
            "\n",
            "     slope  ca  thal  target  \n",
            "0        0   0     1       1  \n",
            "1        0   0     2       1  \n",
            "2        2   0     2       1  \n",
            "3        2   0     2       1  \n",
            "4        2   0     2       1  \n",
            "..     ...  ..   ...     ...  \n",
            "298      1   0     3       0  \n",
            "299      1   0     3       0  \n",
            "300      1   2     3       0  \n",
            "301      1   1     3       0  \n",
            "302      1   1     2       0  \n",
            "\n",
            "[303 rows x 14 columns]\n"
          ]
        }
      ]
    },
    {
      "cell_type": "code",
      "source": [
        "import numpy as np\n",
        "X = q2.drop(\"target\", axis=1)\n",
        "print(X)\n",
        "X_arr = np.array(X)"
      ],
      "metadata": {
        "colab": {
          "base_uri": "https://localhost:8080/"
        },
        "id": "7kAcReRNm-J9",
        "outputId": "40ea6545-de86-4546-c5cb-5060c6cee30b"
      },
      "execution_count": 11,
      "outputs": [
        {
          "output_type": "stream",
          "name": "stdout",
          "text": [
            "     age  sex  cp  trestbps  chol  fbs  restecg  thalach  exang  oldpeak  \\\n",
            "0     63    1   3       145   233    1        0      150      0      2.3   \n",
            "1     37    1   2       130   250    0        1      187      0      3.5   \n",
            "2     41    0   1       130   204    0        0      172      0      1.4   \n",
            "3     56    1   1       120   236    0        1      178      0      0.8   \n",
            "4     57    0   0       120   354    0        1      163      1      0.6   \n",
            "..   ...  ...  ..       ...   ...  ...      ...      ...    ...      ...   \n",
            "298   57    0   0       140   241    0        1      123      1      0.2   \n",
            "299   45    1   3       110   264    0        1      132      0      1.2   \n",
            "300   68    1   0       144   193    1        1      141      0      3.4   \n",
            "301   57    1   0       130   131    0        1      115      1      1.2   \n",
            "302   57    0   1       130   236    0        0      174      0      0.0   \n",
            "\n",
            "     slope  ca  thal  \n",
            "0        0   0     1  \n",
            "1        0   0     2  \n",
            "2        2   0     2  \n",
            "3        2   0     2  \n",
            "4        2   0     2  \n",
            "..     ...  ..   ...  \n",
            "298      1   0     3  \n",
            "299      1   0     3  \n",
            "300      1   2     3  \n",
            "301      1   1     3  \n",
            "302      1   1     2  \n",
            "\n",
            "[303 rows x 13 columns]\n"
          ]
        }
      ]
    },
    {
      "cell_type": "code",
      "source": [
        "y = q2[\"target\"]\n",
        "print(y)"
      ],
      "metadata": {
        "colab": {
          "base_uri": "https://localhost:8080/"
        },
        "id": "OgM0X0bEnNTJ",
        "outputId": "78158590-dbde-4179-dbc1-ac83d51e2871"
      },
      "execution_count": 12,
      "outputs": [
        {
          "output_type": "stream",
          "name": "stdout",
          "text": [
            "0      1\n",
            "1      1\n",
            "2      1\n",
            "3      1\n",
            "4      1\n",
            "      ..\n",
            "298    0\n",
            "299    0\n",
            "300    0\n",
            "301    0\n",
            "302    0\n",
            "Name: target, Length: 303, dtype: int64\n"
          ]
        }
      ]
    },
    {
      "cell_type": "code",
      "source": [
        "from sklearn.preprocessing import MinMaxScaler\n",
        "scaler = MinMaxScaler(feature_range=(0,1))\n",
        "xtrain_norm=scaler.fit_transform(X)\n",
        "print(xtrain_norm)"
      ],
      "metadata": {
        "colab": {
          "base_uri": "https://localhost:8080/"
        },
        "id": "CqC3Qtuqn9cJ",
        "outputId": "ca0cfea5-1e1c-4bbc-ef3c-1028a56e67b3"
      },
      "execution_count": 13,
      "outputs": [
        {
          "output_type": "stream",
          "name": "stdout",
          "text": [
            "[[0.70833333 1.         1.         ... 0.         0.         0.33333333]\n",
            " [0.16666667 1.         0.66666667 ... 0.         0.         0.66666667]\n",
            " [0.25       0.         0.33333333 ... 1.         0.         0.66666667]\n",
            " ...\n",
            " [0.8125     1.         0.         ... 0.5        0.5        1.        ]\n",
            " [0.58333333 1.         0.         ... 0.5        0.25       1.        ]\n",
            " [0.58333333 0.         0.33333333 ... 0.5        0.25       0.66666667]]\n"
          ]
        }
      ]
    },
    {
      "cell_type": "code",
      "source": [
        "from sklearn.model_selection import train_test_split\n",
        "X_train, X_test, y_train, y_test = train_test_split(xtrain_norm, y, test_size=0.2, random_state=42)\n",
        "print(\"X_train shape:\", X_train.shape)\n",
        "print(\"X_test shape:\", X_test.shape)\n",
        "print(\"y_train shape:\", y_train.shape)\n",
        "print(\"y_test shape:\", y_test.shape)"
      ],
      "metadata": {
        "colab": {
          "base_uri": "https://localhost:8080/"
        },
        "id": "4J9fUGk3oNAN",
        "outputId": "edffa900-e809-4b5c-bf78-5552466e612c"
      },
      "execution_count": 14,
      "outputs": [
        {
          "output_type": "stream",
          "name": "stdout",
          "text": [
            "X_train shape: (242, 13)\n",
            "X_test shape: (61, 13)\n",
            "y_train shape: (242,)\n",
            "y_test shape: (61,)\n"
          ]
        }
      ]
    },
    {
      "cell_type": "code",
      "source": [
        "x = X_arr\n",
        "y_p = []\n",
        "def perceptron(weights :list[float], bias : float) -> list[float]:\n",
        "    for i in range(len(x)):\n",
        "        z = bias\n",
        "        for j in range(len(weights)):\n",
        "            z += x[i][j] * weights[j]\n",
        "        s = 1 / (1 + np.exp(-z))\n",
        "        if (s >= 0.5):\n",
        "            y_p.append(1)\n",
        "        else:\n",
        "            y_p.append(0)\n",
        "    return y_p"
      ],
      "metadata": {
        "id": "G_UmlSWvy_ed"
      },
      "execution_count": 15,
      "outputs": []
    },
    {
      "cell_type": "code",
      "source": [
        "y_predict = perceptron([0.1,0.2,0.3,0.1,0.2,0.3,0.1,0.2,0.3,0.1,0.2,0.3,0.1],0.65)"
      ],
      "metadata": {
        "id": "yL7G7izNzZSy"
      },
      "execution_count": 16,
      "outputs": []
    },
    {
      "cell_type": "code",
      "source": [
        "comparison = np.array(y_predict) == np.array(y)\n",
        "accuracy = sum(comparison) / len(y)\n",
        "print(\"Accuracy:\", accuracy)"
      ],
      "metadata": {
        "colab": {
          "base_uri": "https://localhost:8080/"
        },
        "id": "feQ17FQczVXc",
        "outputId": "13394395-3bd4-4899-bb00-380273e0f743"
      },
      "execution_count": 18,
      "outputs": [
        {
          "output_type": "stream",
          "name": "stdout",
          "text": [
            "Accuracy: 0.5445544554455446\n"
          ]
        }
      ]
    },
    {
      "cell_type": "code",
      "source": [
        "from sklearn.svm import SVC\n",
        "from sklearn.model_selection import train_test_split\n",
        "from sklearn.metrics import accuracy_score, classification_report\n",
        "import numpy as np\n",
        "\n",
        "X_train, X_test, y_train, y_test = train_test_split(X, y, test_size=0.2, random_state=42)\n",
        "\n",
        "\n",
        "model = SVC(kernel='linear')\n",
        "\n",
        "model.fit(X_train, y_train)\n",
        "\n",
        "y_pred = model.predict(X_test)\n",
        "\n",
        "accuracy = accuracy_score(y_test, y_pred)\n",
        "print(f\"Accuracy: {accuracy}\")\n",
        "\n",
        "report = classification_report(y_test, y_pred)\n",
        "print(f\"Classification Report:\\n{report}\")\n"
      ],
      "metadata": {
        "colab": {
          "base_uri": "https://localhost:8080/"
        },
        "id": "-gAI5zufDPvp",
        "outputId": "1b2049ec-20a4-4e96-9223-e62619e072fe"
      },
      "execution_count": 22,
      "outputs": [
        {
          "output_type": "stream",
          "name": "stdout",
          "text": [
            "Accuracy: 0.8688524590163934\n",
            "Classification Report:\n",
            "              precision    recall  f1-score   support\n",
            "\n",
            "           0       0.86      0.86      0.86        29\n",
            "           1       0.88      0.88      0.88        32\n",
            "\n",
            "    accuracy                           0.87        61\n",
            "   macro avg       0.87      0.87      0.87        61\n",
            "weighted avg       0.87      0.87      0.87        61\n",
            "\n"
          ]
        }
      ]
    },
    {
      "cell_type": "code",
      "source": [
        "import numpy as np\n",
        "from sklearn.model_selection import train_test_split\n",
        "from sklearn.neighbors import KNeighborsClassifier\n",
        "from sklearn.metrics import accuracy_score\n",
        "from sklearn.utils import resample\n",
        "n_samples = 90\n",
        "k_neighbors = 5\n",
        "knn_models = []\n",
        "all_predictions = []\n",
        "accuracies = []\n",
        "X_train,X_test,y_train,y_test=train_test_split(x,y,test_size=0.1)\n",
        "for i in range(n_samples):\n",
        "    X_boot, y_boot = resample(X_train, y_train, random_state=np.random.randint(1, 1000))\n",
        "    knn = KNeighborsClassifier(n_neighbors=k_neighbors)\n",
        "    knn.fit(X_boot, y_boot)\n",
        "    y_pred = knn.predict(X_test)\n",
        "    knn_models.append(knn)\n",
        "    all_predictions.append(y_pred)\n",
        "    accuracy = accuracy_score(y_test, y_pred)\n",
        "    accuracies.append(accuracy)\n",
        "average_predictions = np.mean(all_predictions, axis=0)\n",
        "average_accuracy = np.mean(accuracies)\n",
        "print(\"Average Accuracy:\", average_accuracy*100)\n",
        "print(\"average prediction:\",average_predictions)"
      ],
      "metadata": {
        "colab": {
          "base_uri": "https://localhost:8080/"
        },
        "id": "QzwLm7PuD9uL",
        "outputId": "01bfcfd0-96bd-44e4-8d5a-34dc67340664"
      },
      "execution_count": 47,
      "outputs": [
        {
          "output_type": "stream",
          "name": "stdout",
          "text": [
            "Average Accuracy: 55.08960573476701\n",
            "average prediction: [0.44444444 0.95555556 0.42222222 0.34444444 0.37777778 0.9\n",
            " 1.         0.64444444 0.6        0.84444444 0.97777778 0.\n",
            " 0.85555556 1.         0.56666667 0.91111111 0.91111111 0.14444444\n",
            " 0.77777778 0.45555556 0.92222222 1.         0.17777778 0.76666667\n",
            " 0.12222222 0.4        0.32222222 0.23333333 1.         0.91111111\n",
            " 0.22222222]\n"
          ]
        }
      ]
    },
    {
      "cell_type": "code",
      "source": [],
      "metadata": {
        "id": "5nIlc6MCI3BB"
      },
      "execution_count": null,
      "outputs": []
    }
  ]
}